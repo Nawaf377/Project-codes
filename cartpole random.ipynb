{
 "cells": [
  {
   "cell_type": "code",
   "execution_count": 4,
   "metadata": {},
   "outputs": [
    {
     "name": "stdout",
     "output_type": "stream",
     "text": [
      "Action space size:  2\n",
      "State space size:  4\n"
     ]
    }
   ],
   "source": [
    "env = gym.make('CartPole-v0')\n",
    "n_actions = env.action_space.n\n",
    "n_states = env.observation_space.shape[0]\n",
    "print(\"Action space size: \", n_actions)\n",
    "print(\"State space size: \", n_states)"
   ]
  },
  {
   "cell_type": "code",
   "execution_count": 5,
   "metadata": {},
   "outputs": [
    {
     "name": "stdout",
     "output_type": "stream",
     "text": [
      "shows result of timesteps completing 300 episodes:\n",
      "Timestep:  6758\n"
     ]
    }
   ],
   "source": [
    "episodes = 300\n",
    "sum_of_epochs = 0\n",
    "reward_list=[]\n",
    "\n",
    "\n",
    "for i in range(episodes): #looping 300 episodes\n",
    "    #set current state to starting environment\n",
    "    state = env.reset() \n",
    "    epochs = 0\n",
    "    episode_reward = 0\n",
    "\n",
    "\n",
    "    done = False\n",
    "    while not done:\n",
    "        #env.render()\n",
    "        action = env.action_space.sample() #take random action\n",
    "        state, reward, done, _ = env.step(action)\n",
    "\n",
    "        epochs += 1 # increment the cumulative epoch\n",
    "        episode_reward+=reward # increment the cumulative reward\n",
    "    \n",
    "    reward_list.append(episode_reward) # append the episode cumulative reward to the reward list\n",
    "    sum_of_epochs += epochs        #get sum of epochs\n",
    "\n",
    "print(\"shows result of timesteps completing 300 episodes:\")\n",
    "print(\"Timestep: \", sum_of_epochs)"
   ]
  },
  {
   "cell_type": "code",
   "execution_count": 8,
   "metadata": {},
   "outputs": [
    {
     "data": {
      "text/plain": [
       "Text(0.5, 1.0, 'avrage of Random timesteps for 300 episodes')"
      ]
     },
     "execution_count": 8,
     "metadata": {},
     "output_type": "execute_result"
    },
    {
     "data": {
      "image/png": "[encoded data removed]",
      "text/plain": [
       "<Figure size 576x396 with 1 Axes>"
      ]
     },
     "metadata": {},
     "output_type": "display_data"
    }
   ],
   "source": [
    "#graph random of timesteps using the average\n",
    "plt.style.use('seaborn')\n",
    "x = ['timesteps']\n",
    "rand_ave = [sum_of_epochs/episodes]\n",
    "plt.bar(x, rand_ave, color='blue')\n",
    "plt.ylabel(\"average\")\n",
    "plt.title(\"avrage of Random timesteps for 300 episodes\")"
   ]
  },
  {
   "cell_type": "code",
   "execution_count": null,
   "metadata": {},
   "outputs": [],
   "source": []
  }
 ],
 "metadata": {
  "kernelspec": {
   "display_name": "Python 3",
   "language": "python",
   "name": "python3"
  },
  "language_info": {
   "codemirror_mode": {
    "name": "ipython",
    "version": 3
   },
   "file_extension": ".py",
   "mimetype": "text/x-python",
   "name": "python",
   "nbconvert_exporter": "python",
   "pygments_lexer": "ipython3",
   "version": "3.7.6"
  }
 },
 "nbformat": 4,
 "nbformat_minor": 4
}
