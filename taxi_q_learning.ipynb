{
 "cells": [
  {
   "cell_type": "code",
   "execution_count": 1,
   "metadata": {},
   "outputs": [],
   "source": [
    "import gym\n",
    "import numpy as np\n",
    "import random\n",
    "import matplotlib.pyplot as plt\n",
    "from IPython.display import clear_output\n",
    "from time import sleep"
   ]
  },
  {
   "cell_type": "code",
   "execution_count": 2,
   "metadata": {},
   "outputs": [
    {
     "name": "stdout",
     "output_type": "stream",
     "text": [
      "+---------+\n",
      "|R: | : :\u001b[35mG\u001b[0m|\n",
      "| : | : : |\n",
      "| : : : : |\n",
      "| | : | : |\n",
      "|\u001b[34;1mY\u001b[0m|\u001b[43m \u001b[0m: |B: |\n",
      "+---------+\n",
      "\n"
     ]
    }
   ],
   "source": [
    "env = gym.make(\"Taxi-v3\").env\n",
    "env.render()"
   ]
  },
  {
   "cell_type": "code",
   "execution_count": 3,
   "metadata": {},
   "outputs": [],
   "source": [
    "q_table = np.zeros([env.observation_space.n, env.action_space.n])"
   ]
  },
  {
   "cell_type": "code",
   "execution_count": 4,
   "metadata": {},
   "outputs": [
    {
     "name": "stdout",
     "output_type": "stream",
     "text": [
      "Episode: 100000\n",
      "traning agent is done.\n",
      "\n"
     ]
    }
   ],
   "source": [
    "#traning phase \n",
    "\n",
    "# For plotting metrics\n",
    "alpha = 0.1 #learning rate\n",
    "gamma = 0.6 #discount factor\n",
    "epsilon = 0.1 #trade-off between exploration and exploitation\n",
    "\n",
    "\n",
    "\n",
    "\n",
    "\n",
    "for i in range(1, 100001):#we will see training of 100000 episodes\n",
    "    state = env.reset() #reset env \n",
    "    epochs = 0 \n",
    "    penalties = 0\n",
    "    reward = 0\n",
    "    \n",
    "    done = False\n",
    "    while not done:\n",
    "\n",
    "        if random.uniform(0, 1) < epsilon:\n",
    "            action = env.action_space.sample() # Explore action space\n",
    "        else:\n",
    "            action = np.argmax(q_table[state]) # Exploit learned values\n",
    "\n",
    "        \n",
    "        next_state, reward, done, info = env.step(action) #take action \n",
    "        old_value = q_table[state, action] #get old value\n",
    "        next_max = np.max(q_table[next_state]) \n",
    "        new_value = (1 - alpha) * old_value + alpha * (reward + gamma * next_max)\n",
    "        q_table[state, action] = new_value #update the table with the new value\n",
    "\n",
    "        if reward == -10:\n",
    "            penalties += 1\n",
    "\n",
    "        state = next_state\n",
    "        epochs += 1\n",
    "        \n",
    "\n",
    "\n",
    "     \n",
    "    #live updates of the episodes\n",
    "    if i % 100 == 0:\n",
    "        clear_output(wait=True)\n",
    "        print(f\"Episode: {i}\")\n",
    "print(\"traning agent is done.\\n\")"
   ]
  },
  {
   "cell_type": "code",
   "execution_count": 5,
   "metadata": {},
   "outputs": [
    {
     "data": {
      "text/plain": [
       "array([ -2.41719014,  -2.27325184,  -2.40862987,  -2.35744178,\n",
       "       -10.6852675 , -11.12721093])"
      ]
     },
     "execution_count": 5,
     "metadata": {},
     "output_type": "execute_result"
    }
   ],
   "source": [
    "q_table[328]"
   ]
  },
  {
   "cell_type": "code",
   "execution_count": 6,
   "metadata": {},
   "outputs": [
    {
     "name": "stdout",
     "output_type": "stream",
     "text": [
      "shows result of timesteps and penalties after completing 300 episodes:\n",
      "Timestep:  3994\n",
      "Penalties: 0\n"
     ]
    }
   ],
   "source": [
    "#evaluating phase \n",
    "episodes = 300\n",
    "sum_of_epochs = 0\n",
    "sum_of_penalties = 0\n",
    "frames = [] # for animation\n",
    "reward_list=[]\n",
    "\n",
    "for i in range(episodes): #looping 300 episodes\n",
    "    \n",
    "    state = env.reset() \n",
    "    epochs = 0\n",
    "    penalties = 0\n",
    "    episode_reward = 0\n",
    "    \n",
    "\n",
    "    done = False\n",
    "    while not done:# while episodes not done will choose from Q table and taking action \n",
    "        action = np.argmax(q_table[state])\n",
    "        state, reward, done, info = env.step(action)\n",
    "\n",
    "        if reward == -10:\n",
    "            penalties += 1\n",
    "\n",
    "        # Put each rendered frame into dict for animation\n",
    "        frames.append({\n",
    "            'frame': env.render(mode='ansi'),\n",
    "            'state': state,\n",
    "            'action': action,\n",
    "            'reward': reward\n",
    "            }\n",
    "        )\n",
    "\n",
    "        epochs += 1 # increment the cumulative epoch\n",
    "        episode_reward+=reward # increment the cumulative reward\n",
    "    \n",
    "    reward_list.append(episode_reward) # append the episode cumulative reward to the reward list\n",
    "    sum_of_epochs += epochs        #get sum of epochs\n",
    "    sum_of_penalties += penalties  #get sum of penalties\n",
    "\n",
    "print(\"shows result of timesteps and penalties after completing 300 episodes:\")\n",
    "print(\"Timestep: \", sum_of_epochs)\n",
    "print(\"Penalties:\", sum_of_penalties)"
   ]
  },
  {
   "cell_type": "code",
   "execution_count": null,
   "metadata": {},
   "outputs": [],
   "source": [
    "def show_frames(frames):\n",
    "    for i, frame in enumerate(frames):\n",
    "        clear_output(wait=True)\n",
    "        print(frame['frame'])\n",
    "        print(f\"Timestep: {i + 1}\")\n",
    "        print(f\"State: {frame['state']}\")\n",
    "        print(f\"Action: {frame['action']}\")\n",
    "        print(f\"Reward: {frame['reward']}\")\n",
    "        sleep(.1)\n",
    "        \n",
    "show_frames(frames)"
   ]
  },
  {
   "cell_type": "code",
   "execution_count": 7,
   "metadata": {},
   "outputs": [
    {
     "data": {
      "text/plain": [
       "Text(0.5, 1.0, 'avrage of Q-learning timesteps and paneltiy for 300 episodes')"
      ]
     },
     "execution_count": 7,
     "metadata": {},
     "output_type": "execute_result"
    },
    {
     "data": {
      "image/png": "[encoded data removed]",
      "text/plain": [
       "<Figure size 576x396 with 1 Axes>"
      ]
     },
     "metadata": {},
     "output_type": "display_data"
    }
   ],
   "source": [
    "#graph q_learning of timesteps and penalties using the average of both result\n",
    "\n",
    "plt.style.use('seaborn')\n",
    "x = ['timesteps','paneltiy']\n",
    "q_learning_ave = [sum_of_epochs/episodes, sum_of_penalties/episodes]\n",
    "plt.bar(x, q_learning_ave, color='blue')\n",
    "plt.ylabel(\"average\")\n",
    "plt.title(\"avrage of Q-learning timesteps and paneltiy for 300 episodes\")"
   ]
  },
  {
   "cell_type": "code",
   "execution_count": null,
   "metadata": {},
   "outputs": [],
   "source": []
  }
 ],
 "metadata": {
  "kernelspec": {
   "display_name": "Python 3",
   "language": "python",
   "name": "python3"
  },
  "language_info": {
   "codemirror_mode": {
    "name": "ipython",
    "version": 3
   },
   "file_extension": ".py",
   "mimetype": "text/x-python",
   "name": "python",
   "nbconvert_exporter": "python",
   "pygments_lexer": "ipython3",
   "version": "3.7.6"
  }
 },
 "nbformat": 4,
 "nbformat_minor": 4
}
