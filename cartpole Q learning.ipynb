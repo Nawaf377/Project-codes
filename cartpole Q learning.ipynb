{
 "cells": [
  {
   "cell_type": "code",
   "execution_count": 2,
   "metadata": {},
   "outputs": [],
   "source": [
    "import numpy as np\n",
    "import gym\n",
    "import random\n",
    "import math\n",
    "import time\n",
    "from IPython.display import clear_output\n",
    "import matplotlib.pyplot as plt"
   ]
  },
  {
   "cell_type": "code",
   "execution_count": 3,
   "metadata": {},
   "outputs": [
    {
     "name": "stdout",
     "output_type": "stream",
     "text": [
      "Action space size:  2\n",
      "State space size:  4\n"
     ]
    }
   ],
   "source": [
    "env = gym.make('CartPole-v0')\n",
    "n_actions = env.action_space.n\n",
    "n_states = env.observation_space.shape[0]\n",
    "print(\"Action space size: \", n_actions)\n",
    "print(\"State space size: \", n_states)"
   ]
  },
  {
   "cell_type": "code",
   "execution_count": 4,
   "metadata": {},
   "outputs": [],
   "source": [
    "# define the number of buckets for each state value (x, x', theta, theta')\n",
    "buckets = (1, 1, 6, 12)     \n",
    "\n",
    "# define upper and lower bounds for each state value\n",
    "upper_bounds = [\n",
    "        env.observation_space.high[0], \n",
    "        0.5, \n",
    "        env.observation_space.high[2], \n",
    "        math.radians(50)\n",
    "        ]\n",
    "lower_bounds = [\n",
    "        env.observation_space.low[0], \n",
    "        -0.5, \n",
    "        env.observation_space.low[2], \n",
    "        -math.radians(50)]"
   ]
  },
  {
   "cell_type": "code",
   "execution_count": 5,
   "metadata": {},
   "outputs": [
    {
     "name": "stdout",
     "output_type": "stream",
     "text": [
      "(1, 1, 6, 12, 2)\n"
     ]
    }
   ],
   "source": [
    "# HYPERPARAMETERS\n",
    "min_alpha = 0.1             # learning rate\n",
    "min_epsilon = 0.1           # exploration rate\n",
    "gamma = 1                   # discount factor\n",
    "ada_divisor = 25            # decay rate parameter for alpha and epsilon\n",
    "\n",
    "# INITIALISE Q MATRIX\n",
    "Q = np.zeros(buckets + (n_actions,)) \n",
    "print(np.shape(Q))"
   ]
  },
  {
   "cell_type": "code",
   "execution_count": 6,
   "metadata": {},
   "outputs": [],
   "source": [
    "def discretize(obs):\n",
    "    ''' discretise the continuous state into buckets ''' \n",
    "    ratios = [(obs[i] + abs(lower_bounds[i])) / (upper_bounds[i] - lower_bounds[i]) for i in range(len(obs))]\n",
    "    new_obs = [int(round((buckets[i] - 1) * ratios[i])) for i in range(len(obs))]\n",
    "    new_obs = [min(buckets[i] - 1, max(0, new_obs[i])) for i in range(len(obs))]\n",
    "    return tuple(new_obs)\n"
   ]
  },
  {
   "cell_type": "code",
   "execution_count": 7,
   "metadata": {},
   "outputs": [],
   "source": [
    "def epsilon_policy(state, epsilon):\n",
    "    ''' choose an action using the epsilon policy '''\n",
    "    exploration_exploitation_tradeoff = np.random.random()\n",
    "    if exploration_exploitation_tradeoff <= epsilon:\n",
    "        action = env.action_space.sample()  # exploration\n",
    "    else:\n",
    "        action = np.argmax(Q[state])   # exploitation\n",
    "    return action"
   ]
  },
  {
   "cell_type": "code",
   "execution_count": 8,
   "metadata": {},
   "outputs": [],
   "source": [
    "def update_q(current_state, action, reward, new_state, alpha):\n",
    "    ''' update the Q matrix with the Bellman equation '''\n",
    "    Q[current_state][action] += alpha * (reward + gamma * np.max(Q[new_state]) - Q[current_state][action])"
   ]
  },
  {
   "cell_type": "code",
   "execution_count": 9,
   "metadata": {},
   "outputs": [],
   "source": [
    "def get_alpha(t):\n",
    "    ''' decrease the learning rate at each episode '''\n",
    "    return max(min_alpha, min(1.0, 1.0 - math.log10((t + 1) / ada_divisor)))"
   ]
  },
  {
   "cell_type": "code",
   "execution_count": 10,
   "metadata": {},
   "outputs": [],
   "source": [
    "def get_epsilon(t):\n",
    "    ''' decrease the exploration rate at each episode '''\n",
    "    return max(min_epsilon, min(1, 1.0 - math.log10((t + 1) / ada_divisor)))"
   ]
  },
  {
   "cell_type": "code",
   "execution_count": 11,
   "metadata": {},
   "outputs": [],
   "source": [
    "def get_alpha(t):\n",
    "    ''' decrease the learning rate at each episode '''\n",
    "    return max(min_alpha, min(1.0, 1.0 - math.log10((t + 1) / ada_divisor)))"
   ]
  },
  {
   "cell_type": "code",
   "execution_count": 14,
   "metadata": {},
   "outputs": [],
   "source": [
    "def greedy_policy(state):\n",
    "    ''' choose an action using the greedy policy '''\n",
    "    return np.argmax(Q[state])"
   ]
  },
  {
   "cell_type": "code",
   "execution_count": 12,
   "metadata": {},
   "outputs": [
    {
     "name": "stdout",
     "output_type": "stream",
     "text": [
      "Episode: 1000\n",
      "Training finished.\n",
      "\n"
     ]
    }
   ],
   "source": [
    "#traning phase\n",
    "\n",
    "rewards = [] #reward list where the reward will be store\n",
    "\n",
    "for episode in range(1,1001): #training 1000 episodes\n",
    "    # reset env\n",
    "    current_state = env.reset() \n",
    "    current_state = discretize(current_state)\n",
    "\n",
    "    alpha = get_alpha(episode) \n",
    "    epsilon = get_epsilon(episode)\n",
    "\n",
    "    episode_rewards = 0\n",
    "    done= False\n",
    "    while not done: \n",
    "        # env.render()\n",
    "        action = epsilon_policy(current_state, epsilon) #exploit\n",
    "        #increment enviroment\n",
    "        new_state, reward, done, _ = env.step(action)\n",
    "        new_state = discretize(new_state)\n",
    "        #update q table \n",
    "        update_q(current_state, action, reward, new_state, alpha)\n",
    "        current_state = new_state\n",
    "\n",
    "        # increment the cumulative reward\n",
    "        episode_rewards += reward\n",
    "\n",
    "    # append the episode cumulative reward to the reward list\n",
    "    rewards.append(episode_rewards)\n",
    "    #live update on current episode    \n",
    "    if episode % 100 == 0:\n",
    "        clear_output(wait=True)\n",
    "        print(f\"Episode: {episode}\")\n",
    "\n",
    "print(\"Training finished.\\n\")"
   ]
  },
  {
   "cell_type": "code",
   "execution_count": 15,
   "metadata": {},
   "outputs": [
    {
     "name": "stdout",
     "output_type": "stream",
     "text": [
      "shows result of timesteps after completing 300 episodes:\n",
      "Timesteps:  2984\n"
     ]
    }
   ],
   "source": [
    "#evaluating phase\n",
    "rewards = [] \n",
    "episode = 300\n",
    "sum_of_epochs = 0\n",
    "\n",
    "for t in range(episode): \n",
    "    current_state = env.reset()\n",
    "    current_state = discretize(current_state)\n",
    "    episode_rewards = 0\n",
    "    epochs = 0\n",
    "\n",
    "    \n",
    "    done = False \n",
    "    while not done:# while episodes not done will choose from Q table and taking action \n",
    "        #env.render()\n",
    "        action = greedy_policy(current_state)\n",
    "        new_state, reward, done, _ = env.step(action)\n",
    "        new_state = discretize(new_state)\n",
    "        episode_rewards += reward # increment the cumulative reward\n",
    "        epochs+=1 # increment the cumulative epoch\n",
    "\n",
    "    rewards.append(episode_rewards)\n",
    "    sum_of_epochs += epochs\n",
    "print(\"shows result of timesteps after completing 300 episodes:\")\n",
    "print(\"Timesteps: \", sum_of_epochs)"
   ]
  },
  {
   "cell_type": "code",
   "execution_count": 16,
   "metadata": {},
   "outputs": [
    {
     "data": {
      "text/plain": [
       "Text(0.5, 1.0, 'avrage of Q_learning timesteps for 300 episodes')"
      ]
     },
     "execution_count": 16,
     "metadata": {},
     "output_type": "execute_result"
    },
    {
     "data": {
      "image/png": "[encoded data removed]",
      "text/plain": [
       "<Figure size 576x396 with 1 Axes>"
      ]
     },
     "metadata": {},
     "output_type": "display_data"
    }
   ],
   "source": [
    "#graph random of timesteps using the average \n",
    "plt.style.use('seaborn')\n",
    "x = ['timesteps']\n",
    "q_learning_ave = [sum_of_epochs/episode]\n",
    "plt.bar(x, q_learning_ave, color='blue')\n",
    "plt.ylabel(\"average\")\n",
    "plt.title(\"avrage of Q_learning timesteps for 300 episodes\")"
   ]
  },
  {
   "cell_type": "code",
   "execution_count": null,
   "metadata": {},
   "outputs": [],
   "source": []
  }
 ],
 "metadata": {
  "kernelspec": {
   "display_name": "Python 3",
   "language": "python",
   "name": "python3"
  },
  "language_info": {
   "codemirror_mode": {
    "name": "ipython",
    "version": 3
   },
   "file_extension": ".py",
   "mimetype": "text/x-python",
   "name": "python",
   "nbconvert_exporter": "python",
   "pygments_lexer": "ipython3",
   "version": "3.7.6"
  }
 },
 "nbformat": 4,
 "nbformat_minor": 4
}
